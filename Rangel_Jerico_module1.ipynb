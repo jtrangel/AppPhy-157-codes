{
  "nbformat": 4,
  "nbformat_minor": 0,
  "metadata": {
    "colab": {
      "name": "Rangel_Jerico_module1.ipynb",
      "provenance": [],
      "collapsed_sections": []
    },
    "kernelspec": {
      "name": "python3",
      "display_name": "Python 3"
    }
  },
  "cells": [
    {
      "cell_type": "markdown",
      "metadata": {
        "id": "RSdzzrWrgAXu"
      },
      "source": [
        "# **AP157 Machine Learning Lab Assignment** \n",
        "## Module 1: Regression -- Overfitting, Underfitting, and Cross-Validation\n",
        "\n",
        "_Instructions_: Answer each part of the assignment as completely as you can. Discuss **all** your code and results as clearly and concisely as possible. \n",
        "\n",
        "_Scoring Criteria_: 50% - *correctness of code*; 50% - *discussion of the code and results*. Maximum score is **100 points** (Parts 1 and 2 are worth 20 and 80 points, respectively).\n",
        "\n",
        "_Credits_: This assignment is based on Chapter 8.11 of “Statistics, Data Mining, and Machine Learning in Astronomy” (SDMMLA) by Zeljko Ivezic et al."
      ]
    },
    {
      "cell_type": "markdown",
      "metadata": {
        "id": "I_dmUyo2pxIt"
      },
      "source": [
        "### Student Information \n",
        "\n",
        "_Full Name (Last Name, First Name)_: Rangel, Jerico Miguel T.\\\n",
        "_Student No._: 2018-11666\\\n",
        "_Section_: WFU-WX"
      ]
    },
    {
      "cell_type": "markdown",
      "metadata": {
        "id": "LyO1CnkFp17G"
      },
      "source": [
        "### Submission Information\n",
        "\n",
        "_Date and Time Submitted (most recent upload)_: 5/25/2021 4:12 pm\n",
        "\n",
        "**HONOR PLEDGE** I affirm that I have upheld the highest principles of honesty and integrity in my academic work and that this lab assignment is my own work.\n",
        "\n",
        "**Sign here with your full name: JERICO MIGUEL TAPANG RANGEL** "
      ]
    },
    {
      "cell_type": "markdown",
      "metadata": {
        "id": "xgse8Mt5p35S"
      },
      "source": [
        "### Grading Information (c/o Instructor)\n",
        "\n",
        "TOTAL SCORE: **[]**/100\n",
        "\n",
        "Score breakdown:\n",
        "* Part 1 - []/20\n",
        "* Part 2 - []/80\n",
        "\n",
        "_Date and Time Scored (MM/DD/YYYY HH:MM AM/PM):_ "
      ]
    },
    {
      "cell_type": "markdown",
      "metadata": {
        "id": "gAgom2vqp-2X"
      },
      "source": [
        "#### PART 1 - Generate data set *(20 points)*\n",
        "\n",
        "1. Generate a toy data set with 100 regularly-spaced points and as described by Eq. 8.75-- a simple model where $x$ and $y$ satisfy the following:\n",
        "$$ 0 \\le x_i \\le 3 $$\n",
        "$$ y_i = x_i \\sin(x_i) + \\epsilon_i $$\n",
        "where the noise is drawn from a normal distribution $\\epsilon_i \\sim \\rm{N}(0, 0.1)$. *(10 points)*  \n",
        "\n",
        "2. Plot your toy data set (Refer to Fig. 8.12 for comparison). *(10 points)*\n"
      ]
    },
    {
      "cell_type": "code",
      "metadata": {
        "id": "KAJ7b7cMp6FY",
        "colab": {
          "base_uri": "https://localhost:8080/",
          "height": 283
        },
        "outputId": "589d6a11-83b9-493e-d5ce-cb1a6e9b57c4"
      },
      "source": [
        "import numpy as np\n",
        "from matplotlib import pyplot as plt\n",
        "%matplotlib inline\n",
        "\n",
        "N = 100\n",
        "x = np.linspace(0,3,N)\n",
        "y = np.zeros(100)\n",
        "error = np.random.normal(0.0,0.1,N)\n",
        " \n",
        "for n in range(N):\n",
        "  y[n] = x[n]*np.sin(x[n]) + np.random.choice(error)\n",
        "\n",
        "plt.scatter(x,y,marker= \"+\")"
      ],
      "execution_count": 1,
      "outputs": [
        {
          "output_type": "execute_result",
          "data": {
            "text/plain": [
              "<matplotlib.collections.PathCollection at 0x7f4df7f1ca10>"
            ]
          },
          "metadata": {
            "tags": []
          },
          "execution_count": 1
        },
        {
          "output_type": "display_data",
          "data": {
            "image/png": "[encoded data removed]",
            "text/plain": [
              "<Figure size 432x288 with 1 Axes>"
            ]
          },
          "metadata": {
            "tags": [],
            "needs_background": "light"
          }
        }
      ]
    },
    {
      "cell_type": "markdown",
      "metadata": {
        "id": "I0xkLcqmY0N7"
      },
      "source": [
        "To create the toy data set, we start with the x values using np.linspace from 0 to 3 for 100 data points. Afterwards, we define the error function using np.random.normal, with $mean = 0$ and $sigma = 0.1$. Using a simple for loop, we can now get the y values using the formula. Additionally I use np.random.choice for the error values just to add an extra layer of randomness. "
      ]
    },
    {
      "cell_type": "markdown",
      "metadata": {
        "id": "YbKhGKmgsPCV"
      },
      "source": [
        "PART 2 - Apply cross-validation *(80 points)*\n",
        "\n",
        "Recreate the top panel of Figure 8.14: rms error vs. polynomial degree for the training set and cross-validation set. To do this, you will perform the ff. steps:\n",
        "\n",
        "1. Split the data set into training, cross-validation, and test sets with 50%, 25% and 25% ratio. You can use sklearn library's model_selection.train_test_split function [(link)](https://scikit-learn.org/stable/modules/generated/sklearn.model_selection.train_test_split.html). *(20 pts.)*\n",
        "2. Get the best-fit curve for polynomial degrees $d=0$ to 14 for the training and cross-validation sets. You can use numpy library's polyfit function [(link)](https://numpy.org/doc/stable/reference/generated/numpy.polyfit.html). *(30 pts.)*\n",
        "3. Get the rms error for each. *(10 pts.)*\n",
        "4. Plot rms error against polynomial degree $d$. *(20 pts.)*\n"
      ]
    },
    {
      "cell_type": "code",
      "metadata": {
        "id": "y8_C0CpvqlkI"
      },
      "source": [
        "import sklearn.model_selection as sk\n",
        "\n",
        "xtrain,x_ct,ytrain, y_ct = sk.train_test_split(x,y,test_size = 0.5)\n",
        "xcross,xtest,ycross, ytest = sk.train_test_split(x_ct,y_ct,test_size = 0.5)"
      ],
      "execution_count": 2,
      "outputs": []
    },
    {
      "cell_type": "markdown",
      "metadata": {
        "id": "71U6mJ2zZqTG"
      },
      "source": [
        "In splitting the data, we use scikit's train_test_split function to get x and y values for our training set. We do this again for the remainder of data denoted by $x_{ct}$ and $y_{ct}$ to get the cross validation and test sets."
      ]
    },
    {
      "cell_type": "code",
      "metadata": {
        "id": "cezOWvCDALY-"
      },
      "source": [
        "curve1 = np.zeros((15,15))\n",
        "\n",
        "for n in np.arange(0,15):\n",
        "  poly = np.polyfit(xtrain,ytrain,n)\n",
        "  shape = np.shape(poly)\n",
        "  for m in np.arange(0,n+1):\n",
        "    curve1[n,14-m] = poly[shape[0]-(m+1)]\n",
        "  \n",
        "p0 = np.poly1d(curve1[0,:])\n",
        "p1 = np.poly1d(curve1[1,:])\n",
        "p2 = np.poly1d(curve1[2,:])\n",
        "p3 = np.poly1d(curve1[3,:])\n",
        "p4 = np.poly1d(curve1[4,:])\n",
        "p5 = np.poly1d(curve1[5,:])\n",
        "p6 = np.poly1d(curve1[6,:])\n",
        "p7 = np.poly1d(curve1[7,:])\n",
        "p8 = np.poly1d(curve1[8,:])\n",
        "p9 = np.poly1d(curve1[9,:])\n",
        "p10 = np.poly1d(curve1[10,:])\n",
        "p11 = np.poly1d(curve1[11,:])\n",
        "p12 = np.poly1d(curve1[12,:])\n",
        "p13 = np.poly1d(curve1[13,:])\n",
        "p14 = np.poly1d(curve1[14,:])"
      ],
      "execution_count": 3,
      "outputs": []
    },
    {
      "cell_type": "markdown",
      "metadata": {
        "id": "sG36agRfaS8B"
      },
      "source": [
        "To get the corresponding polynomial coefficients for each regression degree, we use np.polyfit on the training set. I devise a nested for loop that stores the polynomial coefficients to a 15 x 15 2d array.\n",
        "\n",
        "Additionally, for confirmation I define the functions $p_0$ to $p_{14}$ to be able to visualize the polynomial fitting the training data set. Needless to say I was planning to make a loop for this but was unable to do so since I couldnt figure out how to fit functions/sequences into an array. These functions take the 1d polynomial from the coefficients stored in curve1."
      ]
    },
    {
      "cell_type": "code",
      "metadata": {
        "colab": {
          "base_uri": "https://localhost:8080/",
          "height": 302
        },
        "id": "vm4pAJ1xJJSj",
        "outputId": "814bd755-7883-4648-cd31-eec80078b164"
      },
      "source": [
        "plt.ylim((0,2))\n",
        "xd = np.linspace(0,3,100)\n",
        "plt.plot(xtrain,ytrain,'+',xd,p14(xd))"
      ],
      "execution_count": 4,
      "outputs": [
        {
          "output_type": "execute_result",
          "data": {
            "text/plain": [
              "[<matplotlib.lines.Line2D at 0x7f4de863bd10>,\n",
              " <matplotlib.lines.Line2D at 0x7f4de863bf50>]"
            ]
          },
          "metadata": {
            "tags": []
          },
          "execution_count": 4
        },
        {
          "output_type": "display_data",
          "data": {
            "image/png": "[encoded data removed]",
            "text/plain": [
              "<Figure size 432x288 with 1 Axes>"
            ]
          },
          "metadata": {
            "tags": [],
            "needs_background": "light"
          }
        }
      ]
    },
    {
      "cell_type": "markdown",
      "metadata": {
        "id": "lp9cM1MTbXHt"
      },
      "source": [
        "Here is one of the sample plots I used to make sure I was on the right track."
      ]
    },
    {
      "cell_type": "code",
      "metadata": {
        "id": "nYZQRdQ3X6cJ"
      },
      "source": [
        "from sklearn.metrics import mean_squared_error\n",
        "\n",
        "rms = np.zeros(15)\n",
        "rmsc = np.zeros(15)\n",
        "\n",
        "for n in np.arange(0,15):\n",
        "  p = np.poly1d(curve1[n,:])\n",
        "  rms[n] = mean_squared_error(ytrain, p(xtrain), squared=False)\n",
        "  rmsc[n] = mean_squared_error(ycross, p(xcross), squared=False)"
      ],
      "execution_count": 6,
      "outputs": []
    },
    {
      "cell_type": "markdown",
      "metadata": {
        "id": "8HgJwKoEbdVf"
      },
      "source": [
        "In taking the root mean square of the deviations of the model from the actual values, we use scikit's mean_squared_error function. Here I run a for loop for all the degrees, and store the rms values for the training and cross validation sets in arrays."
      ]
    },
    {
      "cell_type": "code",
      "metadata": {
        "colab": {
          "base_uri": "https://localhost:8080/",
          "height": 300
        },
        "id": "59Wt3v5GahmV",
        "outputId": "4ac87a6b-21d8-4dc8-f834-8cbea090b920"
      },
      "source": [
        "deg = np.arange(0,15)\n",
        "\n",
        "plt.ylim((0,0.8))\n",
        "plt.xticks(deg)\n",
        "plt.xlabel(\"degree\")\n",
        "plt.ylabel(\"root mean square\")\n",
        "plt.plot(deg,rms,'-', label = \"Train\")\n",
        "plt.plot(deg,rmsc,'--', label = \"Cross Validation\")\n",
        "plt.legend(loc=\"best\")"
      ],
      "execution_count": 7,
      "outputs": [
        {
          "output_type": "execute_result",
          "data": {
            "text/plain": [
              "<matplotlib.legend.Legend at 0x7f4de8575250>"
            ]
          },
          "metadata": {
            "tags": []
          },
          "execution_count": 7
        },
        {
          "output_type": "display_data",
          "data": {
            "image/png": "[encoded data removed]",
            "text/plain": [
              "<Figure size 432x288 with 1 Axes>"
            ]
          },
          "metadata": {
            "tags": [],
            "needs_background": "light"
          }
        }
      ]
    },
    {
      "cell_type": "markdown",
      "metadata": {
        "id": "zu7jCGL8cFmy"
      },
      "source": [
        "We can then plot the rms against the degree for both the training and cross validation sets. We can infer or observe that the lowest values for the cross validation set are found at around degree 3,4,5,6, and 9. Running the code for various data set error seeds, I have noticed that the smallest errors are found from degree 3 to as high as degree 11."
      ]
    },
    {
      "cell_type": "code",
      "metadata": {
        "colab": {
          "base_uri": "https://localhost:8080/",
          "height": 313
        },
        "id": "aPPYJxUadSwV",
        "outputId": "a1039b5c-a8f0-44d3-a5d5-6621bffecfea"
      },
      "source": [
        "rmst = np.zeros(5)\n",
        "vals = [3,4,5,6,9]\n",
        "counter = 0\n",
        "for n in vals:\n",
        "  p = np.poly1d(curve1[n,:])\n",
        "  rmst[counter] = mean_squared_error(ytest, p(xtest), squared=False)\n",
        "  counter+=1\n",
        "\n",
        "print(rmst)\n",
        "plt.ylim((0,0.15))\n",
        "plt.xticks(deg)\n",
        "plt.xlabel(\"degree\")\n",
        "plt.ylabel(\"root mean square\")\n",
        "plt.scatter(vals,rmst)"
      ],
      "execution_count": 8,
      "outputs": [
        {
          "output_type": "stream",
          "text": [
            "[0.09897032 0.09255159 0.09350575 0.09348529 0.10857115]\n"
          ],
          "name": "stdout"
        },
        {
          "output_type": "execute_result",
          "data": {
            "text/plain": [
              "<matplotlib.collections.PathCollection at 0x7f4de8453410>"
            ]
          },
          "metadata": {
            "tags": []
          },
          "execution_count": 8
        },
        {
          "output_type": "display_data",
          "data": {
            "image/png": "[encoded data removed]",
            "text/plain": [
              "<Figure size 432x288 with 1 Axes>"
            ]
          },
          "metadata": {
            "tags": [],
            "needs_background": "light"
          }
        }
      ]
    },
    {
      "cell_type": "markdown",
      "metadata": {
        "id": "l93bIWy_fwyW"
      },
      "source": [
        "Lastly, we evaluate the test error for each of the models that are worth looking at. It can be seen that the error at degree 4 is lowest for this particular data set. "
      ]
    }
  ]
}