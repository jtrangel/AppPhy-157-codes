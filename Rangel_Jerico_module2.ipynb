{
  "nbformat": 4,
  "nbformat_minor": 0,
  "metadata": {
    "colab": {
      "name": "Rangel_Jerico_module2.ipynb",
      "provenance": [],
      "collapsed_sections": []
    },
    "kernelspec": {
      "name": "python3",
      "display_name": "Python 3"
    }
  },
  "cells": [
    {
      "cell_type": "markdown",
      "metadata": {
        "id": "ST5d6dw3dLZh"
      },
      "source": [
        "# **AP157 Machine Learning Lab Assignment** \n",
        "## Module 2: Classification -- Morphological Classification of Galaxies using Decision Trees\n",
        "\n",
        "_Instructions_: Answer each part of the assignment as completely as you can. Discuss **all** your code and results as clearly and concisely as possible. \n",
        "\n",
        "_Scoring Criteria_: 50% - *correctness of code*; 50% - *discussion of the code and results*. Maximum score is **100 points** (Parts 1, 2, and 3 are worth 20, 40, and 40 points, respectively).\n",
        "\n",
        "_Credits_: This assignment is based on the Week 6 module of the Coursera course \"Data-driven Astronomy\", \"Exploring machine learning classification\" ([link](https://www.coursera.org/learn/data-driven-astronomy/home/welcome))"
      ]
    },
    {
      "cell_type": "markdown",
      "metadata": {
        "id": "iZZaEzKHdVYG"
      },
      "source": [
        "### Student Information \n",
        "\n",
        "_Full Name (Last Name, First Name)_: Rangel, Jerico Miguel T.\\\n",
        "_Student No._: 2018-11666\\\n",
        "_Section_: WFU-WX"
      ]
    },
    {
      "cell_type": "markdown",
      "metadata": {
        "id": "Xv1STpPodaDL"
      },
      "source": [
        "### Submission Information\n",
        "\n",
        "_Date and Time Submitted (most recent upload)_: 5/31/2021 11:02 PM\n",
        "\n",
        "**HONOR PLEDGE** I affirm that I have upheld the highest principles of honesty and integrity in my academic work and that this lab assignment is my own work.\n",
        "\n",
        "**Sign here with your full name: JERICO MIGUEL TAPANG RANGEL** "
      ]
    },
    {
      "cell_type": "markdown",
      "metadata": {
        "id": "8zw1kC_rdoHT"
      },
      "source": [
        "### Grading Information (c/o Instructor)\n",
        "\n",
        "TOTAL SCORE: **[]**/100\n",
        "\n",
        "Score breakdown:\n",
        "* Part 1 - []/20\n",
        "* Part 2 - []/40\n",
        "* Part 3 - []/40\n",
        "\n",
        "_Date and Time Scored (MM/DD/YYYY HH:MM AM/PM):_ "
      ]
    },
    {
      "cell_type": "markdown",
      "metadata": {
        "id": "UNaYs-MfeDRl"
      },
      "source": [
        "For this assignment, you will work with galaxy data from the \n",
        "Sloan Digital Sky Survey (SDSS). First, you need to make a copy of the binary file ```galaxy_catalogue.npy``` and save it to a folder in your **own Google Drive**. This file is available from the AP157 Machine Learning Google Drive (under the Datasets folder).\n",
        "\n",
        "The code cells below will (1) mount your Google Drive and (2) load ```galaxy_catalogue.npy``` from your Google Drive folder."
      ]
    },
    {
      "cell_type": "markdown",
      "metadata": {
        "id": "ee1mHlUWfcsc"
      },
      "source": [
        "Mount the Google Drive where you saved the .npy file. \n",
        "\n",
        "When you run this cell, you will be asked to sign in to your Google account and you will get an authorization code. Paste the code on the provided cell to mount the Google Drive."
      ]
    },
    {
      "cell_type": "code",
      "metadata": {
        "id": "yH0IOwb1YBHc",
        "colab": {
          "base_uri": "https://localhost:8080/"
        },
        "outputId": "f6c7244d-7392-44cf-e545-7c9e8c02b34e"
      },
      "source": [
        "from google.colab import drive\n",
        "drive.mount(\"/content/drive\")"
      ],
      "execution_count": 1,
      "outputs": [
        {
          "output_type": "stream",
          "text": [
            "Mounted at /content/drive\n"
          ],
          "name": "stdout"
        }
      ]
    },
    {
      "cell_type": "markdown",
      "metadata": {
        "id": "k0C5c-8ofqDu"
      },
      "source": [
        "Run this command to list the directories in your Google Drive and check that the mount was successful."
      ]
    },
    {
      "cell_type": "code",
      "metadata": {
        "id": "mzKLlj20fsJu"
      },
      "source": [
        "!ls drive/My\\ Drive"
      ],
      "execution_count": null,
      "outputs": []
    },
    {
      "cell_type": "markdown",
      "metadata": {
        "id": "XPLuh_jWfju8"
      },
      "source": [
        "Define the directory path to the location of the file, i.e. if it is in a folder named \"AP157\" under My Drive, then the file path will be \"/content/drive/My Drive/AP157\". Change the string variable in the code cell below, as needed:"
      ]
    },
    {
      "cell_type": "code",
      "metadata": {
        "id": "jRpIuwdigDg5"
      },
      "source": [
        "file_path = \"/content/drive/My Drive/157/\""
      ],
      "execution_count": 3,
      "outputs": []
    },
    {
      "cell_type": "markdown",
      "metadata": {
        "id": "VW7RFRGaik-6"
      },
      "source": [
        "Now, we can load the file using $\\tt numpy$'s $\\tt load$ function below."
      ]
    },
    {
      "cell_type": "code",
      "metadata": {
        "id": "y61tYmPIimUv"
      },
      "source": [
        "import numpy as np\n",
        "\n",
        "data = np.load(file_path + 'galaxy_catalogue.npy')"
      ],
      "execution_count": 4,
      "outputs": []
    },
    {
      "cell_type": "markdown",
      "metadata": {
        "id": "HpXP16UfWHQK"
      },
      "source": [
        "Print out the first couple of rows. Note that the columns are: $u-g$, $g-r$, $r-i$, $i-z$, eccentricity, $m_u$, $m_g$, $m_r$, $m_i$, $m_z$, $R_{50,u}$, $R_{50,r}$, $R_{50,z}$, $R_{90,u}$, $R_{90,r}$, $R_{90,z}$, and class."
      ]
    },
    {
      "cell_type": "code",
      "metadata": {
        "id": "HbQiDjyIWsjr",
        "colab": {
          "base_uri": "https://localhost:8080/"
        },
        "outputId": "fb33f168-f11a-47ed-a0ef-47d795d14a37"
      },
      "source": [
        "data[:5]"
      ],
      "execution_count": 5,
      "outputs": [
        {
          "output_type": "execute_result",
          "data": {
            "text/plain": [
              "array([(1.85765, 0.67158, 0.4231 , 0.3061 , 0.5854284, 2.251946, 2.339849, 2.380652, 2.359738, 2.395528, 3.095123, 3.818919, 3.82623 , 5.174814,  8.263009, 11.47734 , 'merger'),\n",
              "       (1.74259, 0.86085, 0.44927, 0.28851, 0.7498125, 2.031566, 2.084156, 2.092272, 2.124075, 2.133154, 1.430436, 1.422533, 1.385727, 3.732712,  3.416921,  3.330347, 'merger'),\n",
              "       (2.10697, 0.9671 , 0.5681 , 0.33747, 0.6300893, 1.992887, 2.450746, 2.473116, 2.465324, 2.438683, 3.099957, 3.623704, 3.4633  , 9.110857,  8.354343, 11.26539 , 'merger'),\n",
              "       (1.2284 , 0.60446, 0.39049, 0.28913, 0.6689994, 2.056115, 2.182252, 2.30951 , 2.391414, 2.472397, 3.627267, 4.063471, 3.717708, 9.580675, 12.20242 , 11.82622 , 'merger'),\n",
              "       (1.80792, 0.78124, 0.45528, 0.35067, 0.5001697, 2.259167, 2.194723, 2.264567, 2.334713, 2.352568, 3.256751, 3.153533, 2.254511, 9.206746,  9.790146,  6.636931, 'merger')],\n",
              "      dtype=[('u-g', '<f8'), ('g-r', '<f8'), ('r-i', '<f8'), ('i-z', '<f8'), ('ecc', '<f8'), ('m4_u', '<f8'), ('m4_g', '<f8'), ('m4_r', '<f8'), ('m4_i', '<f8'), ('m4_z', '<f8'), ('petroR50_u', '<f8'), ('petroR50_r', '<f8'), ('petroR50_z', '<f8'), ('petroR90_u', '<f8'), ('petroR90_r', '<f8'), ('petroR90_z', '<f8'), ('class', '<U20')])"
            ]
          },
          "metadata": {
            "tags": []
          },
          "execution_count": 5
        }
      ]
    },
    {
      "cell_type": "markdown",
      "metadata": {
        "id": "_eq2V7xzFtq7"
      },
      "source": [
        "#### PART 1 - Get features and targets *(20 pts.)*\n",
        "\n",
        "Write a function ```get_features_targets``` that splits the dataset into input features and their corresponding targets. In our case, the inputs are the 4 galaxy colors ($u-g$, $g-r$, $r-i$, and $i-z$), eccentricity, $ugriz$ magnitudes, and concentrations $R_{50}/R_{90}$ in the $u$, $r$, and $z$ bands. The targets are the classes.\n",
        "\n",
        "Here's an example of how your function should work:\n",
        "```\n",
        ">>> features, targets = get_features_targets(data)\n",
        ">>> print(\"Features shape:\", features.shape\n",
        ">>> print(\"Targets shape:\", targets.shape)\n",
        "Features shape: (780, 13)\n",
        "Targets shape: (780,)\n",
        "```"
      ]
    },
    {
      "cell_type": "code",
      "metadata": {
        "id": "mfMtufdukBnu"
      },
      "source": [
        "import numpy as np\n",
        "\n",
        "def get_features_targets(x):\n",
        "  n = 16\n",
        "  features = np.zeros((len(x),n-3))\n",
        "  targets = []\n",
        "  for m in range(len(x)):\n",
        "    for i in range(n-3):\n",
        "      if i == 10:\n",
        "        features[m,i] = (x[m][i])/(x[m][i+3])\n",
        "      elif i == 11:\n",
        "        features[m,i] = (x[m][i])/(x[m][i+3])\n",
        "      elif i == 12:\n",
        "        features[m,i] = (x[m][i])/(x[m][i+3])\n",
        "      else:\n",
        "        features[m,i] = x[m][i]\n",
        "    targets.append(x[m][n]) \n",
        "  return features,targets"
      ],
      "execution_count": 6,
      "outputs": []
    },
    {
      "cell_type": "markdown",
      "metadata": {
        "id": "uzXObFCx0vg6"
      },
      "source": [
        "The first 16 columns of the dataset correspond to the features, while the 17th column at index 16 corresponds to the target class. I use a nested for loop to go through each row and each column and copy them to the corresponding matrix. Additionally for indices 10 to 15, the data is collated into one based on the expression $R_{50}/R_{90}$. Columns 10,11, and 12 in the features matrix are replaced with the corresponding expressions for the $u$,$r$, and $z$ bands. I use append for the targets array since the classes are strings and can be listed as such. "
      ]
    },
    {
      "cell_type": "code",
      "metadata": {
        "colab": {
          "base_uri": "https://localhost:8080/"
        },
        "id": "WsQDShxzWPTm",
        "outputId": "e0cdb50a-d0e5-474c-f34a-5898f41784b7"
      },
      "source": [
        "#Checking shapes of the arrays from the function\n",
        "features,targets = get_features_targets(data) \n",
        "print(np.shape(features))\n",
        "print(np.shape(targets))"
      ],
      "execution_count": 7,
      "outputs": [
        {
          "output_type": "stream",
          "text": [
            "(780, 13)\n",
            "(780,)\n"
          ],
          "name": "stdout"
        }
      ]
    },
    {
      "cell_type": "markdown",
      "metadata": {
        "id": "vnePPYpJNWoY"
      },
      "source": [
        "#### PART 2 - Train and run a decision tree model *(40 pts.)*\n",
        "\n",
        "Write a function ```predict_class``` that will train and validate a model that predicts a galaxy's class from its photometric properties. In particular, it should do the following:\n",
        "1. Split the dataset into a training and test dataset using an 80:20 split.\n",
        "2. Train the input model using the training dataset features and targets.\n",
        "3. Return two arrays-- the predicted and actual class of the test galaxies.\n",
        "\n",
        "Here's an example of how your function should work:\n",
        "```\n",
        "import numpy as np\n",
        "from sklearn.tree import DecisionTreeRegressor\n",
        "\n",
        "data = np.load(file_path + 'galaxy_catalogue.npy')\n",
        "predicted_class, actual_class = predict_class(data)\n",
        "\n",
        "for i in np.arange(3):\n",
        "   print(\"%d, %s, %s\" & (i, predicted_class[i], actual_class[i]))\n",
        "```"
      ]
    },
    {
      "cell_type": "code",
      "metadata": {
        "id": "ydeUh_Tzvf0n"
      },
      "source": [
        "from sklearn.model_selection import train_test_split, cross_val_predict\n",
        "from sklearn.tree import DecisionTreeClassifier\n",
        "\n",
        "def predict_class(x,string):\n",
        "  features,targets = get_features_targets(x)\n",
        "  ftrain, ftest, ttrain,ttest = train_test_split(features,targets,train_size = 0.8, test_size = 0.2) \n",
        "  clf = DecisionTreeClassifier(random_state = 0)\n",
        "  clf.fit(ftrain,ttrain)\n",
        "\n",
        "  if string == \"train\": \n",
        "    predicted = clf.predict(features)\n",
        "  elif string == \"test\":\n",
        "    predicted = clf.predict(ftest)\n",
        "    targets = ttest\n",
        "\n",
        "  return predicted, targets"
      ],
      "execution_count": 8,
      "outputs": []
    },
    {
      "cell_type": "markdown",
      "metadata": {
        "id": "2DSjHd582-69"
      },
      "source": [
        "First we take the features and targets of the data using the function made earlier. We can then split the features into the training and test sets, each with their corresponding targets. I use the **DecisionTreeClassifier** class to fit the the training dataset. I add an additional parameter $string$ so the function works for both training and testing. Lastly we return the proper predicted and actual target arrays."
      ]
    },
    {
      "cell_type": "code",
      "metadata": {
        "colab": {
          "base_uri": "https://localhost:8080/"
        },
        "id": "-srobMOAb2-V",
        "outputId": "a66eb9ba-0ec3-4b71-e7c3-522630763c8c"
      },
      "source": [
        "predicted_class, actual_class = predict_class(data,\"train\")\n",
        " \n",
        "for i in np.arange(len(predicted_class)):\n",
        "  if predicted_class[i] != actual_class[i]: \n",
        "    print((i, predicted_class[i], actual_class[i]))"
      ],
      "execution_count": 9,
      "outputs": [
        {
          "output_type": "stream",
          "text": [
            "(41, 'spiral', 'merger')\n",
            "(53, 'spiral', 'merger')\n",
            "(55, 'spiral', 'merger')\n",
            "(73, 'spiral', 'merger')\n",
            "(111, 'spiral', 'merger')\n",
            "(120, 'spiral', 'merger')\n",
            "(132, 'spiral', 'merger')\n",
            "(159, 'spiral', 'merger')\n",
            "(165, 'elliptical', 'merger')\n",
            "(312, 'merger', 'elliptical')\n",
            "(393, 'merger', 'elliptical')\n",
            "(417, 'merger', 'elliptical')\n",
            "(439, 'merger', 'elliptical')\n",
            "(477, 'merger', 'elliptical')\n",
            "(552, 'merger', 'spiral')\n",
            "(561, 'merger', 'spiral')\n",
            "(588, 'merger', 'spiral')\n",
            "(623, 'merger', 'spiral')\n",
            "(641, 'merger', 'spiral')\n",
            "(655, 'merger', 'spiral')\n",
            "(696, 'merger', 'spiral')\n",
            "(698, 'merger', 'spiral')\n",
            "(710, 'merger', 'spiral')\n",
            "(712, 'merger', 'spiral')\n",
            "(761, 'merger', 'spiral')\n",
            "(768, 'merger', 'spiral')\n",
            "(776, 'merger', 'spiral')\n"
          ],
          "name": "stdout"
        }
      ]
    },
    {
      "cell_type": "markdown",
      "metadata": {
        "id": "-u2QYDnT4W0X"
      },
      "source": [
        "To check if it works, I listed the wrong predictions with the corresponding data."
      ]
    },
    {
      "cell_type": "markdown",
      "metadata": {
        "id": "hlSp5k92OjuM"
      },
      "source": [
        "#### PART 3 - Confusion matrix and accuracy *(40 pts.)*\n",
        "\n",
        "1. Get the confusion matrix for your test dataset-- this is a 3 x 3 matrix with the counts for each combination of actual and predicted class. *(25 pts.)*\n",
        "\n",
        "2. Get the test accuracy of your decision tree classifer, defined as the number of correct predictions divided by the total number of predictions. *(15 pts.)*"
      ]
    },
    {
      "cell_type": "code",
      "metadata": {
        "id": "OZXvnOSLdH_k"
      },
      "source": [
        "pred, act = predict_class(data,\"test\")\n",
        "\n",
        "conf = np.zeros ((3,3))\n",
        "right = 0\n",
        "for i in np.arange(len(pred)):\n",
        "  if pred[i] == act[i]:\n",
        "    right +=1\n",
        "    if pred[i] == 'elliptical':\n",
        "      conf[0,0] +=1\n",
        "    elif pred[i] == 'spiral':\n",
        "      conf[1,1] +=1\n",
        "    elif pred[i] == 'merger':\n",
        "      conf[2,2] +=1\n",
        "  else:\n",
        "    if pred[i] == 'elliptical':\n",
        "      if act[i] == 'spiral':\n",
        "        conf[1,0] +=1\n",
        "      if act[i] == 'merger':\n",
        "        conf[2,0] +=1\n",
        "    elif pred[i] == 'spiral': \n",
        "      if act[i] == 'elliptical':\n",
        "        conf[0,1] +=1\n",
        "      if act[i] == 'merger':\n",
        "        conf[2,1] +=1\n",
        "    elif pred[i] == 'merger':\n",
        "      if act[i] == 'elliptical':\n",
        "        conf[0,2] +=1\n",
        "      if act[i] == 'spiral':\n",
        "        conf[1,2] +=1\n",
        "\n",
        "test_accuracy = right/len(pred)"
      ],
      "execution_count": 10,
      "outputs": []
    },
    {
      "cell_type": "markdown",
      "metadata": {
        "id": "tbd8s2zF4nCB"
      },
      "source": [
        "For the confusion matrix, I put in a for loop the conditions that add values to indices of the matrix. I also count the number of right predictions to be able to calculate the test accuracy."
      ]
    },
    {
      "cell_type": "code",
      "metadata": {
        "colab": {
          "base_uri": "https://localhost:8080/",
          "height": 478
        },
        "id": "1v1t5szJm2pa",
        "outputId": "81118cbb-b99f-4ab5-d3bb-ca8a4e708ef9"
      },
      "source": [
        "import seaborn as sn\n",
        "import pandas as pd\n",
        "import matplotlib.pyplot as plt\n",
        "\n",
        "df_cm = pd.DataFrame(conf, ('elliptical','spiral','merger'), ('elliptical','spiral','merger'))\n",
        "plt.figure(figsize=(10,7))\n",
        "sn.heatmap(df_cm, cmap='Purples', annot=True, annot_kws={\"size\": 16}) # font size\n",
        "plt.xlabel(\"Predicted Classes\", labelpad = 20, fontsize = 'x-large')\n",
        "plt.ylabel(\"Actual Classes\", labelpad = 20, fontsize = 'x-large')\n",
        "plt.show()\n",
        "\n",
        "print(\"The test accuracy is:\",test_accuracy*100,\"%\")"
      ],
      "execution_count": 18,
      "outputs": [
        {
          "output_type": "display_data",
          "data": {
            "image/png": "[encoded data removed]",
            "text/plain": [
              "<Figure size 720x504 with 2 Axes>"
            ]
          },
          "metadata": {
            "tags": [],
            "needs_background": "light"
          }
        },
        {
          "output_type": "stream",
          "text": [
            "The test accuracy is: 81.41025641025641 %\n"
          ],
          "name": "stdout"
        }
      ]
    },
    {
      "cell_type": "markdown",
      "metadata": {
        "id": "SfqxIUeP490T"
      },
      "source": [
        "Scikit has a confusion matrix function however I found it much more convenient to graph it using the seaborn and panda packages. The test accuracy was $81.4\\%$, with there being up to 12 false predictions for one class. This is expected for the default decision tree classifier configuration, which does not have a set maximum number of leaf nodes."
      ]
    }
  ]
}